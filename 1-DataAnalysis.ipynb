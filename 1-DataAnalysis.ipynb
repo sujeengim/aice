{
 "cells": [
  {
   "cell_type": "markdown",
   "id": "2dc70aa9",
   "metadata": {},
   "source": [
    "# 안녕하세요^^ \n",
    "## AI 프로젝트 따라하기 - 원내비 도착시간 예측 모델링 과정에 오신 여러분을 환영합니다.\n",
    "* 본 과정에서는 주변에서 마주할 수 있는 연속성을 가지는 수치를 예측할 수 있는 회귀문제를 예제코드를 통해서 기계학습(머신러닝 및 딥러닝)을 활용해서 해결할 것입니다.\n",
    "* 네비게이션 주행데이터를 가지고 도착시간 정확도를 개선하는 과정을 통해 실전 AI 과제 수행에 있어 자신감을 가질 수 있는 기회가 되었으면 좋겠습니다.\n",
    "* AI문제 해결 과정 'A에서 Z까지', 지금부터 시작합니다!"
   ]
  },
  {
   "cell_type": "markdown",
   "id": "d845b400",
   "metadata": {},
   "source": [
    "## 기본전제\n",
    "[기본 데이터]\n",
    "* 학습데이터 : onenavi_train.csv(7월 20일에서 24일 사이의 수도권 3~15km 주행데이터)\n",
    "* 평가데이터 : onenavi_evaluation.csv(7월 27일에서 31일 사이의 수도권 3~15km 주행데이터)\n",
    "\n",
    "[추가 데이터]\n",
    "* 주소(시군구)데이터 : onenavi_pnu.csv(주행데이터를 기준으로 출발지의 주소 정보, key : RID)\n",
    "* 신호등(갯수)데이터 : onenavi_signal.csv(주행데이터를 기준으로 경로의 신호등 갯수, key : RID)\n",
    "* 날씨데이터 : onenavi_weather.csv(주행데이터를 기준으로 해당 일자의 수도권 날씨 정보, key : RID)\n",
    "\n",
    "[변수 설명]\n",
    "* rid : 경로정보의 unique 값(id)\n",
    "* departure : 출발 시간 \n",
    "* arrive : 도착 시간 \n",
    "* distance :  실제 거리 \n",
    "* et : 실제 시간 \n",
    "* eta : 기존 원내비 시간예측 모델의 시간\n",
    "* etaa : 정확도"
   ]
  },
  {
   "cell_type": "markdown",
   "id": "5d4158b0",
   "metadata": {},
   "source": [
    "#### ※ 참고 : PEP8(https://www.python.org/dev/peps/pep-0008/)를 준수하나 교육상 필요 시 상황에 맞춰 실습할 예정입니다."
   ]
  },
  {
   "cell_type": "markdown",
   "id": "004ffc9c",
   "metadata": {},
   "source": [
    "# 본격적인 실습 전 Warming Up\n",
    "* AIDU에서 데이터프레임 불러오기\n",
    "* 시각화 툴 사용방법"
   ]
  },
  {
   "cell_type": "markdown",
   "id": "06c576eb",
   "metadata": {},
   "source": [
    "### 가. 라이브러리 Import"
   ]
  },
  {
   "cell_type": "code",
   "execution_count": 1,
   "id": "d181f9c4",
   "metadata": {},
   "outputs": [],
   "source": [
    "# 데이터 프레임 관련 라이브러리\n",
    "import pandas as pd\n",
    "import numpy as np"
   ]
  },
  {
   "cell_type": "code",
   "execution_count": 3,
   "id": "f1a25098-fd12-47c6-b9ee-19da3f891e5c",
   "metadata": {},
   "outputs": [
    {
     "name": "stdout",
     "output_type": "stream",
     "text": [
      "Requirement already satisfied: seaborn in /usr/local/lib/python3.10/dist-packages (0.12.1)\n",
      "Requirement already satisfied: matplotlib!=3.6.1,>=3.1 in /usr/local/lib/python3.10/dist-packages (from seaborn) (3.7.0)\n",
      "Requirement already satisfied: numpy>=1.17 in /usr/local/lib/python3.10/dist-packages (from seaborn) (1.23.5)\n",
      "Requirement already satisfied: pandas>=0.25 in /usr/local/lib/python3.10/dist-packages (from seaborn) (1.5.3)\n",
      "Requirement already satisfied: contourpy>=1.0.1 in /usr/local/lib/python3.10/dist-packages (from matplotlib!=3.6.1,>=3.1->seaborn) (1.2.0)\n",
      "Requirement already satisfied: packaging>=20.0 in /usr/local/lib/python3.10/dist-packages (from matplotlib!=3.6.1,>=3.1->seaborn) (23.2)\n",
      "Requirement already satisfied: python-dateutil>=2.7 in /usr/local/lib/python3.10/dist-packages (from matplotlib!=3.6.1,>=3.1->seaborn) (2.8.2)\n",
      "Requirement already satisfied: pillow>=6.2.0 in /usr/local/lib/python3.10/dist-packages (from matplotlib!=3.6.1,>=3.1->seaborn) (10.1.0)\n",
      "Requirement already satisfied: fonttools>=4.22.0 in /usr/local/lib/python3.10/dist-packages (from matplotlib!=3.6.1,>=3.1->seaborn) (4.25.0)\n",
      "Requirement already satisfied: pyparsing>=2.3.1 in /usr/local/lib/python3.10/dist-packages (from matplotlib!=3.6.1,>=3.1->seaborn) (3.1.0)\n",
      "Requirement already satisfied: kiwisolver>=1.0.1 in /usr/local/lib/python3.10/dist-packages (from matplotlib!=3.6.1,>=3.1->seaborn) (1.4.5)\n",
      "Requirement already satisfied: cycler>=0.10 in /usr/local/lib/python3.10/dist-packages (from matplotlib!=3.6.1,>=3.1->seaborn) (0.12.1)\n",
      "Requirement already satisfied: pytz>=2020.1 in /usr/local/lib/python3.10/dist-packages (from pandas>=0.25->seaborn) (2023.3.post1)\n",
      "Requirement already satisfied: six>=1.5 in /usr/local/lib/python3.10/dist-packages (from python-dateutil>=2.7->matplotlib!=3.6.1,>=3.1->seaborn) (1.16.0)\n",
      "\u001b[33mWARNING: Running pip as the 'root' user can result in broken permissions and conflicting behaviour with the system package manager. It is recommended to use a virtual environment instead: https://pip.pypa.io/warnings/venv\u001b[0m\u001b[33m\n",
      "\u001b[0m\n",
      "\u001b[1m[\u001b[0m\u001b[34;49mnotice\u001b[0m\u001b[1;39;49m]\u001b[0m\u001b[39;49m A new release of pip available: \u001b[0m\u001b[31;49m22.3.1\u001b[0m\u001b[39;49m -> \u001b[0m\u001b[32;49m25.0.1\u001b[0m\n",
      "\u001b[1m[\u001b[0m\u001b[34;49mnotice\u001b[0m\u001b[1;39;49m]\u001b[0m\u001b[39;49m To update, run: \u001b[0m\u001b[32;49mpython3.10 -m pip install --upgrade pip\u001b[0m\n"
     ]
    }
   ],
   "source": [
    "!pip install seaborn"
   ]
  },
  {
   "cell_type": "code",
   "execution_count": 4,
   "id": "223bc3de",
   "metadata": {},
   "outputs": [],
   "source": [
    "# 시각화 관련 라이브러리\n",
    "import seaborn as sns\n",
    "import matplotlib.pyplot as plt"
   ]
  },
  {
   "cell_type": "code",
   "execution_count": 5,
   "id": "a7721e14",
   "metadata": {},
   "outputs": [
    {
     "data": {
      "text/html": [
       "<div>\n",
       "<style scoped>\n",
       "    .dataframe tbody tr th:only-of-type {\n",
       "        vertical-align: middle;\n",
       "    }\n",
       "\n",
       "    .dataframe tbody tr th {\n",
       "        vertical-align: top;\n",
       "    }\n",
       "\n",
       "    .dataframe thead th {\n",
       "        text-align: right;\n",
       "    }\n",
       "</style>\n",
       "<table border=\"1\" class=\"dataframe\">\n",
       "  <thead>\n",
       "    <tr style=\"text-align: right;\">\n",
       "      <th></th>\n",
       "      <th>RID</th>\n",
       "      <th>TIME_DEPARTUREDATE</th>\n",
       "      <th>TIME_ARRIVEDATE</th>\n",
       "      <th>A_DISTANCE</th>\n",
       "      <th>ET</th>\n",
       "      <th>ETA</th>\n",
       "      <th>ETAA</th>\n",
       "    </tr>\n",
       "  </thead>\n",
       "  <tbody>\n",
       "    <tr>\n",
       "      <th>0</th>\n",
       "      <td>router-84875df7fc-b5nxc-7-20255166-0</td>\n",
       "      <td>2020-07-20 05:35:21.000</td>\n",
       "      <td>2020-07-20 05:55:22.599</td>\n",
       "      <td>12914.0</td>\n",
       "      <td>1201.534058</td>\n",
       "      <td>987.624634</td>\n",
       "      <td>82.196974</td>\n",
       "    </tr>\n",
       "    <tr>\n",
       "      <th>1</th>\n",
       "      <td>router-84875df7fc-b5nxc-6-10888379-0</td>\n",
       "      <td>2020-07-20 05:55:22.000</td>\n",
       "      <td>2020-07-20 06:09:06.941</td>\n",
       "      <td>7483.0</td>\n",
       "      <td>823.817017</td>\n",
       "      <td>855.933716</td>\n",
       "      <td>96.101477</td>\n",
       "    </tr>\n",
       "    <tr>\n",
       "      <th>2</th>\n",
       "      <td>router-84875df7fc-cmkz9-7-45806143-0</td>\n",
       "      <td>2020-07-20 00:13:46.000</td>\n",
       "      <td>2020-07-20 00:22:32.909</td>\n",
       "      <td>8087.0</td>\n",
       "      <td>526.710999</td>\n",
       "      <td>575.954529</td>\n",
       "      <td>90.650750</td>\n",
       "    </tr>\n",
       "    <tr>\n",
       "      <th>3</th>\n",
       "      <td>router-84875df7fc-scxcj-7-47843617-0</td>\n",
       "      <td>2020-07-20 00:13:43.000</td>\n",
       "      <td>2020-07-20 00:28:42.729</td>\n",
       "      <td>10528.0</td>\n",
       "      <td>898.581970</td>\n",
       "      <td>537.117004</td>\n",
       "      <td>59.773846</td>\n",
       "    </tr>\n",
       "    <tr>\n",
       "      <th>4</th>\n",
       "      <td>router-84875df7fc-scxcj-3-20061505-0</td>\n",
       "      <td>2020-07-20 00:01:57.000</td>\n",
       "      <td>2020-07-20 00:17:58.169</td>\n",
       "      <td>10636.0</td>\n",
       "      <td>957.758972</td>\n",
       "      <td>786.352539</td>\n",
       "      <td>82.103385</td>\n",
       "    </tr>\n",
       "    <tr>\n",
       "      <th>...</th>\n",
       "      <td>...</td>\n",
       "      <td>...</td>\n",
       "      <td>...</td>\n",
       "      <td>...</td>\n",
       "      <td>...</td>\n",
       "      <td>...</td>\n",
       "      <td>...</td>\n",
       "    </tr>\n",
       "    <tr>\n",
       "      <th>55895</th>\n",
       "      <td>router-84875df7fc-8n4sw-2-7745536-0</td>\n",
       "      <td>2020-07-24 23:57:07.000</td>\n",
       "      <td>2020-07-25 00:06:15.697</td>\n",
       "      <td>4448.0</td>\n",
       "      <td>544.301025</td>\n",
       "      <td>550.907715</td>\n",
       "      <td>98.786207</td>\n",
       "    </tr>\n",
       "    <tr>\n",
       "      <th>55896</th>\n",
       "      <td>router-84875df7fc-scxcj-1-6043477-0</td>\n",
       "      <td>2020-07-24 23:57:26.000</td>\n",
       "      <td>2020-07-25 00:07:15.291</td>\n",
       "      <td>3106.0</td>\n",
       "      <td>535.666992</td>\n",
       "      <td>459.554443</td>\n",
       "      <td>85.791070</td>\n",
       "    </tr>\n",
       "    <tr>\n",
       "      <th>55897</th>\n",
       "      <td>router-84875df7fc-b5nxc-6-13399736-0</td>\n",
       "      <td>2020-07-24 23:57:46.000</td>\n",
       "      <td>2020-07-25 00:07:56.841</td>\n",
       "      <td>10325.0</td>\n",
       "      <td>610.799988</td>\n",
       "      <td>791.658936</td>\n",
       "      <td>70.389825</td>\n",
       "    </tr>\n",
       "    <tr>\n",
       "      <th>55898</th>\n",
       "      <td>router-84875df7fc-cmkz9-7-56753908-0</td>\n",
       "      <td>2020-07-24 23:58:03.000</td>\n",
       "      <td>2020-07-25 00:12:42.402</td>\n",
       "      <td>4458.0</td>\n",
       "      <td>878.479004</td>\n",
       "      <td>516.855774</td>\n",
       "      <td>58.835302</td>\n",
       "    </tr>\n",
       "    <tr>\n",
       "      <th>55899</th>\n",
       "      <td>router-84875df7fc-scxcj-7-59508946-0</td>\n",
       "      <td>2020-07-24 23:58:56.000</td>\n",
       "      <td>2020-07-25 00:08:10.410</td>\n",
       "      <td>3780.0</td>\n",
       "      <td>553.580994</td>\n",
       "      <td>693.482544</td>\n",
       "      <td>74.727899</td>\n",
       "    </tr>\n",
       "  </tbody>\n",
       "</table>\n",
       "<p>55900 rows × 7 columns</p>\n",
       "</div>"
      ],
      "text/plain": [
       "                                        RID       TIME_DEPARTUREDATE  \\\n",
       "0      router-84875df7fc-b5nxc-7-20255166-0  2020-07-20 05:35:21.000   \n",
       "1      router-84875df7fc-b5nxc-6-10888379-0  2020-07-20 05:55:22.000   \n",
       "2      router-84875df7fc-cmkz9-7-45806143-0  2020-07-20 00:13:46.000   \n",
       "3      router-84875df7fc-scxcj-7-47843617-0  2020-07-20 00:13:43.000   \n",
       "4      router-84875df7fc-scxcj-3-20061505-0  2020-07-20 00:01:57.000   \n",
       "...                                     ...                      ...   \n",
       "55895   router-84875df7fc-8n4sw-2-7745536-0  2020-07-24 23:57:07.000   \n",
       "55896   router-84875df7fc-scxcj-1-6043477-0  2020-07-24 23:57:26.000   \n",
       "55897  router-84875df7fc-b5nxc-6-13399736-0  2020-07-24 23:57:46.000   \n",
       "55898  router-84875df7fc-cmkz9-7-56753908-0  2020-07-24 23:58:03.000   \n",
       "55899  router-84875df7fc-scxcj-7-59508946-0  2020-07-24 23:58:56.000   \n",
       "\n",
       "               TIME_ARRIVEDATE  A_DISTANCE           ET         ETA       ETAA  \n",
       "0      2020-07-20 05:55:22.599     12914.0  1201.534058  987.624634  82.196974  \n",
       "1      2020-07-20 06:09:06.941      7483.0   823.817017  855.933716  96.101477  \n",
       "2      2020-07-20 00:22:32.909      8087.0   526.710999  575.954529  90.650750  \n",
       "3      2020-07-20 00:28:42.729     10528.0   898.581970  537.117004  59.773846  \n",
       "4      2020-07-20 00:17:58.169     10636.0   957.758972  786.352539  82.103385  \n",
       "...                        ...         ...          ...         ...        ...  \n",
       "55895  2020-07-25 00:06:15.697      4448.0   544.301025  550.907715  98.786207  \n",
       "55896  2020-07-25 00:07:15.291      3106.0   535.666992  459.554443  85.791070  \n",
       "55897  2020-07-25 00:07:56.841     10325.0   610.799988  791.658936  70.389825  \n",
       "55898  2020-07-25 00:12:42.402      4458.0   878.479004  516.855774  58.835302  \n",
       "55899  2020-07-25 00:08:10.410      3780.0   553.580994  693.482544  74.727899  \n",
       "\n",
       "[55900 rows x 7 columns]"
      ]
     },
     "execution_count": 5,
     "metadata": {},
     "output_type": "execute_result"
    }
   ],
   "source": [
    "df = pd.read_csv(\"onenavi_train.csv\", sep = \"|\")\n",
    "df"
   ]
  },
  {
   "cell_type": "markdown",
   "id": "56d9ec21",
   "metadata": {},
   "source": [
    "### 나. Seaborn을 활용한 데이터 시각화\n",
    "#### Seaborn 라이브러리는 데이터를 직관적으로 볼 수 있도록 다양한 지원을 해주고 있습니다.\n",
    "#### 여기서는 Seaborn이 제공하는 통계차트 중 대표적인 몇 가지를 활용해보고자 합니다.\n",
    "[참고] 공식 Document\n",
    "* Seaborn(https://seaborn.pydata.org/api.html)\n",
    "* Seaborn.CountChart(https://seaborn.pydata.org/generated/seaborn.countplot.html)\n",
    "* Seaborn.Distplot(https://seaborn.pydata.org/generated/seaborn.distplot.html?highlight=distplot#seaborn.distplot) : 히스토그램 + 커널밀도\n",
    "* Seaborn.Boxplot(https://seaborn.pydata.org/generated/seaborn.boxplot.html#seaborn.boxplot)\n",
    "* Seaborn.Heatmap(https://seaborn.pydata.org/generated/seaborn.heatmap.html?highlight=heatmap#seaborn.heatmap)\n",
    "* Seaborn.Pairplot(https://seaborn.pydata.org/generated/seaborn.pairplot.html?highlight=pairplot#seaborn.pairplot) : 조합별 히스토그램 + 산점도"
   ]
  },
  {
   "cell_type": "markdown",
   "id": "697a5ff3",
   "metadata": {},
   "source": [
    "---"
   ]
  },
  {
   "cell_type": "markdown",
   "id": "9209e5c5",
   "metadata": {},
   "source": [
    "# 1. 데이터 불러오기\n",
    "## 모든 AI프로젝트의 시작은 '데이터 불러오기' 부터라고 할 수 있습니다.\n",
    "+ KeyPoint : 불러오고자 하는 데이터에 따라 자유롭게 변수로 지정할 수 있다.\n",
    "+ [참고] AIDU에서는 반드시 추가 라이브러리 Import와 설정을 해야만 데이터 불러오기가 가능하다."
   ]
  },
  {
   "cell_type": "markdown",
   "id": "32de099d",
   "metadata": {},
   "source": [
    "### 가. 데이터 프레임을 불러오고 변수로 저장(여기서는 CSV 기준으로 진행)\n",
    "* csv : pd.read_csv(\"파일이름. csv\")\n",
    "* txt : pd.read_csv(\"파일이름. csv\", sep=\"구분자\")\n",
    "* xlsx : pd.read_excel('파일이름.xlsx')\n",
    "* pickle : pd.read_pickle(\"파일이름.pkl\") <br>\n",
    " [참고] pickle은 파이썬의 모든 객체를 파일로 저장할 수 있는 방법으로 DataFrame,List,Dict 등 모든 객체 저장 가능(특히 sklearn라이브러리를 통해 모델을 학습시키고, 저장할 때 많이 사용)"
   ]
  },
  {
   "cell_type": "markdown",
   "id": "38ef6c03",
   "metadata": {},
   "source": [
    "### 실습1. <u>Pandas 라이브러리를 활용해서 'onenavi_train.csv'파일을 'df' 변수에 저장하고 그 Shape을 확인하세요.</u>"
   ]
  },
  {
   "cell_type": "code",
   "execution_count": 6,
   "id": "60e2d66c",
   "metadata": {},
   "outputs": [],
   "source": [
    "# 아래에 실습코드를 작성하고 결과를 확인합니다.(Hint : dataframe = pandas.read_csv(\"file\"))\n",
    "df = pd.read_csv('onenavi_train.csv')\n",
    "\n",
    "\n",
    "\n",
    "\n"
   ]
  },
  {
   "cell_type": "code",
   "execution_count": 7,
   "id": "e4ca1c7e",
   "metadata": {},
   "outputs": [
    {
     "data": {
      "text/plain": [
       "(55900, 1)"
      ]
     },
     "execution_count": 7,
     "metadata": {},
     "output_type": "execute_result"
    }
   ],
   "source": [
    "# 데이터 프레임의 Shape을 확인합니다.(Hint : dataframe.shape)\n",
    "\n",
    "df.shape\n",
    "\n",
    "\n"
   ]
  },
  {
   "cell_type": "markdown",
   "id": "428e1ed4",
   "metadata": {},
   "source": [
    "### 나. 학습데이터와 평가데이터 합치기\n",
    "#### 학습데이터(onenavi_train.csv)는 7월 20일에서 24일까지 자료입니다.\n",
    "#### 평가데이터(onenavi_evaluation.csv)는 7월 27일에서 31일까지 자료입니다."
   ]
  },
  {
   "cell_type": "markdown",
   "id": "08c8b94b",
   "metadata": {},
   "source": [
    "#### 만약에 Train/Evaluation 데이터를 따로 전처리 한다면?\n",
    "* 전처리 기준(특히 정규화 작업 시)이 달라져서 모델의 성능에 악영향을 줄 수 있음"
   ]
  },
  {
   "cell_type": "markdown",
   "id": "6d001452",
   "metadata": {},
   "source": [
    "### 실습2. <u>Pandas 라이브러리를 활용해서 'onenavi_train.csv'파일과 'onenavi_evaluation.csv'를 'df_total' 변수에 저장하고 그 Shape을 확인하세요.</u>"
   ]
  },
  {
   "cell_type": "code",
   "execution_count": 8,
   "id": "6993ce94",
   "metadata": {},
   "outputs": [],
   "source": [
    "# 아래에 실습코드를 작성하고 결과를 확인합니다.(Hint : dataframe = pandas.concat([dataframe,dataframe]))\n",
    "df2 = pd.read_csv(\"onenavi_evaluation.csv\")\n",
    "\n",
    "df_total = pd.concat([df, df2])\n",
    "\n",
    "\n"
   ]
  },
  {
   "cell_type": "code",
   "execution_count": 9,
   "id": "325305bf",
   "metadata": {},
   "outputs": [
    {
     "data": {
      "text/plain": [
       "(109642, 1)"
      ]
     },
     "execution_count": 9,
     "metadata": {},
     "output_type": "execute_result"
    }
   ],
   "source": [
    "# 데이터 프레임의 Shape을 확인합니다.(Hint : dataframe.shape)\n",
    "\n",
    "df_total.shape\n",
    "\n",
    "\n"
   ]
  },
  {
   "cell_type": "markdown",
   "id": "7bca73ab",
   "metadata": {},
   "source": [
    "# 2. 추가변수 생성\n",
    "## 주어진 데이터만 가지고 모델링을 한다면 세상을 너무 만만하게 보고 있는 것입니다.\n",
    "+ KeyPoint : 모델에 영향을 줄 수 있는 다양한 변수를 고민하고 기존 데이터와 Merge 할 수 있다."
   ]
  },
  {
   "cell_type": "markdown",
   "id": "2e653a5e",
   "metadata": {},
   "source": [
    "#### 사실 추가변수 생성은 데이터 전처리 영역의 범위로 보는 경우도 있습니다.\n",
    "#### 데이터 분석과 전처리는 '닭이 먼저냐? 달걀이 먼저냐?'와 같이 상호 인과관계를 가질 수 있습니다.\n",
    "#### 다만 여기서는 교육의 원활한 진행을 위해 데이터 분석 이전에 진행하겠습니다.\n",
    "#### $\"주행에 영향을 미치는 요소는$\" 어떤 것이 있을까요? 저는 좌표정보와 경로의 신호등 여부를 생각해봤습니다.\n",
    "#### 그렇다면 어떻게 변수화 할까요?\n",
    "#### 좌표정보는 $\"출발지의 좌표$\"를 기준으로 $\"시군구 단위$\"를 주소정보로 \n",
    "#### 신호등 여부는 경로 상의 $\"신호등 갯수$\"를 변수로 만들 수 있겠네요.\n",
    "#### Route ID를 기준으로 미리 데이터 프레임을 만들어 두었습니다."
   ]
  },
  {
   "cell_type": "markdown",
   "id": "b8d09029",
   "metadata": {},
   "source": [
    "### 실습3. <u>Pandas 라이브러리를 활용해서 지역정보와 신호등정보를 'df_total'와 합쳐보세요.</u>"
   ]
  },
  {
   "cell_type": "code",
   "execution_count": null,
   "id": "eef365dd",
   "metadata": {},
   "outputs": [],
   "source": [
    "# 아래에 실습코드를 작성하고 결과를 확인합니다.(Hint : dataframe = pandas.merge(dataframe,dataframe, on='key'))\n",
    "df_pnu = pd.read_csv(\"onenavi_pnu.csv\")\n",
    "df_total = pd.merge(df_total, df_pnu, \n",
    "\n",
    "\n"
   ]
  },
  {
   "cell_type": "markdown",
   "id": "2626d8fb",
   "metadata": {},
   "source": [
    "### 실습4. <u>날씨 데이터를 추가변수로 만들어봅시다.</u>"
   ]
  },
  {
   "cell_type": "code",
   "execution_count": null,
   "id": "5f69ffc8",
   "metadata": {},
   "outputs": [],
   "source": [
    "# 아래에 실습코드를 작성하고 날씨 데이터를 추가변수로 만들어봅시다.(Hint : onenavi_weather.csv)\n",
    "# 다만 이후 실습에서는 날씨 데이터를 사용하지 않을 예정이니 추가한 데이터 프레임은 df_total_temp로 저장해주세요.\n",
    "\n",
    "\n",
    "\n",
    "\n"
   ]
  },
  {
   "cell_type": "markdown",
   "id": "36993fa9",
   "metadata": {},
   "source": [
    "# 3. 데이터 분석하기\n",
    "## 최적의 모델을 만들기위해 데이터를 입체적으로 바라보는 시도는 중요합니다.\n",
    "+ KeyPoint : 데이터의 형태를 살펴보고 다양한 분석기법을 통해 모델링에 적합하도록 정제요소를 선별할 수 있다.\n",
    "  * 관측치들의 패턴 탐색\n",
    "  * 잘못된 자료들을 탐색\n",
    "  * 변수들간의 관계 파악"
   ]
  },
  {
   "cell_type": "markdown",
   "id": "17c33ed0",
   "metadata": {},
   "source": [
    "### 실습5. <u>변수 df_total를 토대로 개인이 원하는 차트를 구성해보고 나름의 분석을 해보세요.</u>"
   ]
  },
  {
   "cell_type": "code",
   "execution_count": null,
   "id": "aa23337d",
   "metadata": {},
   "outputs": [],
   "source": [
    "# 아래에 실습코드를 작성하고 차트를 구성해봅니다.\n",
    "\n",
    "\n",
    "\n",
    "\n",
    "\n"
   ]
  },
  {
   "cell_type": "code",
   "execution_count": null,
   "id": "e14a9628",
   "metadata": {},
   "outputs": [],
   "source": [
    "# 아래에 차트를 통해 알게된 사실을 정리해봅시다.\n",
    "# 1. \n",
    "# 2.\n",
    "# 3.\n"
   ]
  },
  {
   "cell_type": "markdown",
   "id": "a157681b",
   "metadata": {},
   "source": [
    "### 다. 상관관계 분석(Pandas/Seaborn)\n",
    "#### 상관관계 분석은 왜 하는것일까요?\n",
    "##### 막연하게 상관관계는 높으면 좋을 것 같습니다. 하지만 AI모델링을 할때 꼭 좋은 것은 아닙니다. 가령 살아온 날수와 식사를 한 끼니 수는 강한 상관관계를 가질 것입니다. 그러나 조금만 다르게 보면 둘은 같은 이야기를 하는 것이라고 할 수 있습니다.(다중공선성의 문제)\n",
    "##### 상관관계 계수만으로 어떤 결정을 한다는 것은 섣부른 일입니다. 어떤 변수인지 확인이 반드시 필요하며, 시각화를 통해 분포도 확인하고 결정을 해야합니다.\n",
    "[다중공선성 해결 Tip]\n",
    "* 상관관계가 높은 독립변수중 하나 혹은 일부를 제거\n",
    "* 변수를 변형시키거나 새로운 관측치를 이용\n",
    "* 기타 다른 분석을 이용"
   ]
  },
  {
   "cell_type": "markdown",
   "id": "73c6cdef",
   "metadata": {},
   "source": [
    "### 실습6. <u>변수 df_total를 토대로 상관계수를 구하고 시각화 후 나름의 분석을 해보세요.</u>"
   ]
  },
  {
   "cell_type": "code",
   "execution_count": null,
   "id": "a3842a77",
   "metadata": {},
   "outputs": [],
   "source": [
    "# 아래에 실습코드를 작성하고 상관계수를 확인 및 시각화 합니다.\n",
    "# Hint!\n",
    "## 상관계수 계산 : dataframe.corr()\n",
    "## 시각화 : seaborn.heatmap(dataframe.corr(), annot=True)\n",
    "\n",
    "\n",
    "\n"
   ]
  },
  {
   "cell_type": "code",
   "execution_count": null,
   "id": "c50c3ed1",
   "metadata": {},
   "outputs": [],
   "source": [
    "# 아래에 차트를 통해 알게된 사실을 정리해봅시다.\n",
    "# \n",
    "\n",
    "\n",
    "\n",
    "\n"
   ]
  }
 ],
 "metadata": {
  "kernelspec": {
   "display_name": "Python 3 (ipykernel)",
   "language": "python",
   "name": "python3"
  },
  "language_info": {
   "codemirror_mode": {
    "name": "ipython",
    "version": 3
   },
   "file_extension": ".py",
   "mimetype": "text/x-python",
   "name": "python",
   "nbconvert_exporter": "python",
   "pygments_lexer": "ipython3",
   "version": "3.10.13"
  }
 },
 "nbformat": 4,
 "nbformat_minor": 5
}
